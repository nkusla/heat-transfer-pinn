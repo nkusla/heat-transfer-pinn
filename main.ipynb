{
 "cells": [
  {
   "cell_type": "markdown",
   "metadata": {},
   "source": [
    "# Heat transfer simulation using Physics-Informed Neural Network"
   ]
  },
  {
   "cell_type": "code",
   "execution_count": null,
   "metadata": {},
   "outputs": [],
   "source": [
    "import sys\n",
    "sys.path.append('./src')"
   ]
  },
  {
   "cell_type": "code",
   "execution_count": null,
   "metadata": {},
   "outputs": [],
   "source": [
    "from heat_solver import HeatForwardSolver\n",
    "import plotter\n",
    "from params import u0, options, boundaries\n",
    "import matplotlib.pyplot as plt\n",
    "import numpy as np\n",
    "import torch\n",
    "from tqdm import tqdm\n",
    "from pinn import PINN\n",
    "import data_generation as dg\n",
    "from predict import predict\n",
    "from pprint import pprint"
   ]
  },
  {
   "cell_type": "markdown",
   "metadata": {},
   "source": [
    "## Numerical simulation using FDM"
   ]
  },
  {
   "cell_type": "code",
   "execution_count": null,
   "metadata": {},
   "outputs": [],
   "source": [
    "solver = HeatForwardSolver(**options)\n",
    "solver.set_initial(u0)\n",
    "solver.set_boundaries(boundaries)\n",
    "\n",
    "solver.solve()\n",
    "\n",
    "plotter.animate_plot(solver.u, solver.delta_t, filename='plots/numerical_prediction.gif')\n",
    "plt = plotter.plot_frame(solver.u, solver.u.shape[2]-1, solver.delta_t)\n",
    "plt.show()\n",
    "\n",
    "pprint(options)"
   ]
  },
  {
   "cell_type": "markdown",
   "metadata": {},
   "source": [
    "## PINN traning and prediciton"
   ]
  },
  {
   "cell_type": "code",
   "execution_count": null,
   "metadata": {},
   "outputs": [],
   "source": [
    "device = device = torch.device('cuda' if torch.cuda.is_available() else 'cpu')\n",
    "\n",
    "scaled_alpha = dg.scale_alpha(options['alpha'])"
   ]
  },
  {
   "cell_type": "markdown",
   "metadata": {},
   "source": [
    "### Traning with COLLOCATION points ONLY"
   ]
  },
  {
   "cell_type": "code",
   "execution_count": null,
   "metadata": {},
   "outputs": [],
   "source": [
    "pinn = PINN([3, 40, 40, 40, 40, 40, 1], device, scaled_alpha)\n",
    "\n",
    "traning_data = dg.generate_traning_data(device, n_colloc=10_000)\n",
    "\n",
    "pinn.start_train(traning_data, 20_000)\n",
    "plotter.plot_loss(pinn.loss_history, pinn.epoch_history).show()\n",
    "\n",
    "u = predict(pinn)\n",
    "\n",
    "plotter.animate_plot(u, options['delta_t'], filename=\"plots/pinn_prediction_colloc.gif\")\n",
    "plt = plotter.plot_frame(u, u.shape[2]-1, options['delta_t'])\n",
    "plt.show()"
   ]
  },
  {
   "cell_type": "markdown",
   "metadata": {},
   "source": [
    "### Traning with collocation points, BC and IC"
   ]
  },
  {
   "cell_type": "code",
   "execution_count": null,
   "metadata": {},
   "outputs": [],
   "source": [
    "pinn = PINN([3, 40, 40, 40, 40, 40, 1], device, scaled_alpha)\n",
    "\n",
    "traning_data = dg.generate_traning_data(device, n_colloc=10_000, n_bc=2000, n_ic=800)\n",
    "\n",
    "pinn.start_train(traning_data, 20_000)\n",
    "plotter.plot_loss(pinn.loss_history, pinn.epoch_history).show()\n",
    "\n",
    "u = predict(pinn)\n",
    "\n",
    "plotter.animate_plot(u, options['delta_t'], filename=\"plots/pinn_prediction_pde.gif\")\n",
    "plt = plotter.plot_frame(u, u.shape[2]-1, options['delta_t'])\n",
    "plt.show()"
   ]
  },
  {
   "cell_type": "markdown",
   "metadata": {},
   "source": [
    "### Training with DATA points ONLY"
   ]
  },
  {
   "cell_type": "code",
   "execution_count": null,
   "metadata": {},
   "outputs": [],
   "source": [
    "pinn = PINN([3, 40, 40, 40, 40, 40, 1], device, scaled_alpha)\n",
    "\n",
    "traning_data = dg.generate_traning_data(device, u=solver.u, n_data=20_000)\n",
    "\n",
    "pinn.start_train(traning_data, 20_000)\n",
    "plotter.plot_loss(pinn.loss_history, pinn.epoch_history).show()\n",
    "\n",
    "u = predict(pinn)\n",
    "\n",
    "plotter.animate_plot(u, options['delta_t'], filename=\"plots/pinn_prediction_data.gif\")\n",
    "plt = plotter.plot_frame(u, u.shape[2]-1, options['delta_t'])\n",
    "plt.show()"
   ]
  },
  {
   "cell_type": "markdown",
   "metadata": {},
   "source": [
    "### Training with DATA and PDE (collocation points, BC and IC)"
   ]
  },
  {
   "cell_type": "code",
   "execution_count": null,
   "metadata": {},
   "outputs": [],
   "source": [
    "pinn = PINN([3, 40, 40, 40, 40, 40, 1], device, scaled_alpha)\n",
    "\n",
    "traning_data = dg.generate_traning_data(device, u=solver.u, n_data=20_000, n_colloc=10_000, n_bc=2000, n_ic=800)\n",
    "\n",
    "pinn.start_train(traning_data, 20_000)\n",
    "plotter.plot_loss(pinn.loss_history, pinn.epoch_history).show()\n",
    "\n",
    "u = predict(pinn)\n",
    "\n",
    "plotter.animate_plot(u, options['delta_t'], filename=\"plots/pinn_prediction_all.gif\")\n",
    "plt = plotter.plot_frame(u, u.shape[2]-1, options['delta_t'])\n",
    "plt.show()"
   ]
  }
 ],
 "metadata": {
  "kernelspec": {
   "display_name": "venv",
   "language": "python",
   "name": "python3"
  },
  "language_info": {
   "codemirror_mode": {
    "name": "ipython",
    "version": 3
   },
   "file_extension": ".py",
   "mimetype": "text/x-python",
   "name": "python",
   "nbconvert_exporter": "python",
   "pygments_lexer": "ipython3",
   "version": "3.10.12"
  }
 },
 "nbformat": 4,
 "nbformat_minor": 2
}
