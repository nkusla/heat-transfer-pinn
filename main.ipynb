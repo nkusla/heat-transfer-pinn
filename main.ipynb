{
 "cells": [
  {
   "cell_type": "markdown",
   "metadata": {},
   "source": [
    "# Heat transfer simulation using Physics-Informed Neural Network"
   ]
  },
  {
   "cell_type": "code",
   "execution_count": 1,
   "metadata": {},
   "outputs": [],
   "source": [
    "import sys\n",
    "sys.path.append('./src')"
   ]
  },
  {
   "cell_type": "code",
   "execution_count": 2,
   "metadata": {},
   "outputs": [],
   "source": [
    "from heat_solver import HeatForwardSolver\n",
    "import plotter\n",
    "from params import u0, options, boundaries\n",
    "import matplotlib.pyplot as plt\n",
    "import numpy as np\n",
    "import torch\n",
    "from tqdm import tqdm\n",
    "from pinn import PINN\n",
    "import data_generation as dg\n",
    "from predict import predict\n",
    "from pprint import pprint"
   ]
  },
  {
   "cell_type": "markdown",
   "metadata": {},
   "source": [
    "## Numerical simulation using FDM"
   ]
  },
  {
   "cell_type": "code",
   "execution_count": 3,
   "metadata": {},
   "outputs": [
    {
     "name": "stderr",
     "output_type": "stream",
     "text": [
      "Running solver: 100%|██████████| 599/599 [00:08<00:00, 66.62it/s]\n"
     ]
    },
    {
     "name": "stdout",
     "output_type": "stream",
     "text": [
      "Time: 8.99451 seconds\n"
     ]
    },
    {
     "name": "stderr",
     "output_type": "stream",
     "text": [
      "Generating animation: 601it [00:35, 17.14it/s]                         "
     ]
    },
    {
     "name": "stdout",
     "output_type": "stream",
     "text": [
      "Plot animated and saved to plots/numerical_prediction.gif\n"
     ]
    },
    {
     "name": "stderr",
     "output_type": "stream",
     "text": [
      "\n"
     ]
    },
    {
     "data": {
      "image/png": "[encoded data removed]",
      "text/plain": [
       "<Figure size 640x480 with 2 Axes>"
      ]
     },
     "metadata": {},
     "output_type": "display_data"
    },
    {
     "name": "stdout",
     "output_type": "stream",
     "text": [
      "{'alpha': 2.0,\n",
      " 'delta_t': 0.125,\n",
      " 'delta_x': 1,\n",
      " 'domain_length': 100,\n",
      " 'max_iter': 600,\n",
      " 't_end': 75.0}\n"
     ]
    }
   ],
   "source": [
    "solver = HeatForwardSolver(**options)\n",
    "solver.set_initial(u0)\n",
    "solver.set_boundaries(boundaries)\n",
    "\n",
    "solver.solve()\n",
    "\n",
    "plotter.animate_plot(solver.u, solver.delta_t, filename='plots/numerical_prediction.gif')\n",
    "plt = plotter.plot_frame(solver.u, solver.u.shape[2]-1, solver.delta_t)\n",
    "plt.show()\n",
    "\n",
    "pprint(options)"
   ]
  },
  {
   "cell_type": "markdown",
   "metadata": {},
   "source": [
    "## PINN traning and prediciton"
   ]
  },
  {
   "cell_type": "code",
   "execution_count": 4,
   "metadata": {},
   "outputs": [],
   "source": [
    "device = device = torch.device('cuda' if torch.cuda.is_available() else 'cpu')\n",
    "\n",
    "scaled_alpha = dg.scale_alpha(options['alpha'])"
   ]
  },
  {
   "cell_type": "markdown",
   "metadata": {},
   "source": [
    "### Traning with collocation points ONLY"
   ]
  },
  {
   "cell_type": "code",
   "execution_count": null,
   "metadata": {},
   "outputs": [],
   "source": [
    "pinn = PINN([3, 40, 40, 40, 40, 40, 1], device, scaled_alpha)\n",
    "\n",
    "traning_data = dg.generate_traning_data(device, n_colloc=10_000)\n",
    "\n",
    "pinn.start_train(traning_data, 20_000)\n",
    "\n",
    "u = predict(pinn)\n",
    "\n",
    "plotter.animate_plot(u, options['delta_t'], filename=\"plots/pinn_prediction_colloc.gif\")\n",
    "plt = plotter.plot_frame(u, u.shape[2]-1, options['delta_t'])\n",
    "plt.show()"
   ]
  },
  {
   "cell_type": "markdown",
   "metadata": {},
   "source": [
    "### Training with data points ONLY"
   ]
  },
  {
   "cell_type": "code",
   "execution_count": 5,
   "metadata": {},
   "outputs": [
    {
     "name": "stderr",
     "output_type": "stream",
     "text": [
      "Generating experimental data: 100%|██████████| 20000/20000 [00:00<00:00, 348797.22it/s]\n"
     ]
    },
    {
     "name": "stdout",
     "output_type": "stream",
     "text": [
      "Iteration: 0, Loss: 0.044219449162483215\n",
      "Iteration: 100, Loss: 0.027162671089172363\n",
      "Iteration: 200, Loss: 0.021607356145977974\n",
      "Iteration: 300, Loss: 0.013492288999259472\n",
      "Iteration: 400, Loss: 0.01140649989247322\n",
      "Iteration: 500, Loss: 0.008939668536186218\n",
      "Iteration: 600, Loss: 0.006427645683288574\n",
      "Iteration: 700, Loss: 0.005164880305528641\n",
      "Iteration: 800, Loss: 0.004415398929268122\n",
      "Iteration: 900, Loss: 0.003829802619293332\n",
      "Iteration: 1000, Loss: 0.0032567596063017845\n",
      "Iteration: 1100, Loss: 0.0028968120459467173\n",
      "Iteration: 1200, Loss: 0.0026194131933152676\n",
      "Iteration: 1300, Loss: 0.002506405347958207\n",
      "Iteration: 1400, Loss: 0.0022960868664085865\n",
      "Iteration: 1500, Loss: 0.0021969398949295282\n",
      "Iteration: 1600, Loss: 0.002123540500178933\n",
      "Iteration: 1700, Loss: 0.0020652753300964832\n",
      "Iteration: 1800, Loss: 0.002019554376602173\n",
      "Iteration: 1900, Loss: 0.0019788204226642847\n",
      "Iteration: 2000, Loss: 0.0019455587025731802\n",
      "Iteration: 2100, Loss: 0.001914892578497529\n",
      "Iteration: 2200, Loss: 0.00188795430585742\n",
      "Iteration: 2300, Loss: 0.0018694751197472215\n",
      "Iteration: 2400, Loss: 0.0018409854965284467\n",
      "Iteration: 2500, Loss: 0.001819795579649508\n",
      "Iteration: 2600, Loss: 0.0018010345520451665\n",
      "Iteration: 2700, Loss: 0.001782614504918456\n",
      "Iteration: 2800, Loss: 0.0018821755656972528\n",
      "Iteration: 2900, Loss: 0.0017485275166109204\n",
      "Iteration: 3000, Loss: 0.0017320456681773067\n",
      "Iteration: 3100, Loss: 0.001717333565466106\n",
      "Iteration: 3200, Loss: 0.001700857887044549\n",
      "Iteration: 3300, Loss: 0.0016868251841515303\n",
      "Iteration: 3400, Loss: 0.0016704159788787365\n",
      "Iteration: 3500, Loss: 0.0016554679023101926\n",
      "Iteration: 3600, Loss: 0.0016483014915138483\n",
      "Iteration: 3700, Loss: 0.0016271682688966393\n",
      "Iteration: 3800, Loss: 0.0016133857425302267\n",
      "Iteration: 3900, Loss: 0.0016008050879463553\n",
      "Iteration: 4000, Loss: 0.001588067738339305\n",
      "Iteration: 4100, Loss: 0.0015759215457364917\n",
      "Iteration: 4200, Loss: 0.001565147889778018\n",
      "Iteration: 4300, Loss: 0.00155409867875278\n",
      "Iteration: 4400, Loss: 0.0015459867427125573\n",
      "Iteration: 4500, Loss: 0.0015342618571594357\n",
      "Iteration: 4600, Loss: 0.0015250457217916846\n",
      "Iteration: 4700, Loss: 0.0020101943518966436\n",
      "Iteration: 4800, Loss: 0.0015078929718583822\n",
      "Iteration: 4900, Loss: 0.0014998414553701878\n",
      "Iteration: 5000, Loss: 0.0015400780830532312\n",
      "Iteration: 5100, Loss: 0.0014844296965748072\n",
      "Iteration: 5200, Loss: 0.001477099023759365\n",
      "Iteration: 5300, Loss: 0.0014765430241823196\n",
      "Iteration: 5400, Loss: 0.0014629807556048036\n",
      "Iteration: 5500, Loss: 0.0014560857089236379\n",
      "Iteration: 5600, Loss: 0.001449641422368586\n",
      "Iteration: 5700, Loss: 0.0014431282179430127\n",
      "Iteration: 5800, Loss: 0.0017747897654771805\n",
      "Iteration: 5900, Loss: 0.001430559903383255\n",
      "Iteration: 6000, Loss: 0.001424460206180811\n",
      "Iteration: 6100, Loss: 0.0014273123815655708\n",
      "Iteration: 6200, Loss: 0.0014127044705674052\n",
      "Iteration: 6300, Loss: 0.0014069078024476767\n",
      "Iteration: 6400, Loss: 0.0014013907639309764\n",
      "Iteration: 6500, Loss: 0.0013960065552964807\n",
      "Iteration: 6600, Loss: 0.001390612218528986\n",
      "Iteration: 6700, Loss: 0.001395655912347138\n",
      "Iteration: 6800, Loss: 0.0013801936293020844\n",
      "Iteration: 6900, Loss: 0.001375054009258747\n",
      "Iteration: 7000, Loss: 0.0013710102066397667\n",
      "Iteration: 7100, Loss: 0.0013654871145263314\n",
      "Iteration: 7200, Loss: 0.0013608065200969577\n",
      "Iteration: 7300, Loss: 0.0013560281367972493\n",
      "Iteration: 7400, Loss: 0.0013514208840206265\n",
      "Iteration: 7500, Loss: 0.0013470154954120517\n",
      "Iteration: 7600, Loss: 0.0013425146462395787\n",
      "Iteration: 7700, Loss: 0.0013409557286649942\n",
      "Iteration: 7800, Loss: 0.0013337689451873302\n",
      "Iteration: 7900, Loss: 0.0013330121291801333\n",
      "Iteration: 8000, Loss: 0.0013252736534923315\n",
      "Iteration: 8100, Loss: 0.001321122981607914\n",
      "Iteration: 8200, Loss: 0.001323046162724495\n",
      "Iteration: 8300, Loss: 0.0013129347935318947\n",
      "Iteration: 8400, Loss: 0.0013089325511828065\n",
      "Iteration: 8500, Loss: 0.0013047968968749046\n",
      "Iteration: 8600, Loss: 0.001301075448282063\n",
      "Iteration: 8700, Loss: 0.0012966663343831897\n",
      "Iteration: 8800, Loss: 0.0014072307385504246\n",
      "Iteration: 8900, Loss: 0.00128836405929178\n",
      "Iteration: 9000, Loss: 0.0012840895215049386\n",
      "Iteration: 9100, Loss: 0.0013283228036016226\n",
      "Iteration: 9200, Loss: 0.0012753249611705542\n",
      "Iteration: 9300, Loss: 0.0012707120040431619\n",
      "Iteration: 9400, Loss: 0.0012678649509325624\n",
      "Iteration: 9500, Loss: 0.00126069865655154\n",
      "Iteration: 9600, Loss: 0.0012552756816148758\n",
      "Iteration: 9700, Loss: 0.0014196655247360468\n",
      "Iteration: 9800, Loss: 0.0012432659277692437\n",
      "Iteration: 9900, Loss: 0.0012365306029096246\n",
      "Iteration: 10000, Loss: 0.0012288353173062205\n",
      "Iteration: 10100, Loss: 0.0012205359525978565\n",
      "Iteration: 10200, Loss: 0.0012109022354707122\n",
      "Iteration: 10300, Loss: 0.001205549226142466\n",
      "Iteration: 10400, Loss: 0.001187422894872725\n",
      "Iteration: 10500, Loss: 0.0011723716743290424\n",
      "Iteration: 10600, Loss: 0.0011550525669008493\n",
      "Iteration: 10700, Loss: 0.0011341890785843134\n",
      "Iteration: 10800, Loss: 0.0012826068559661508\n",
      "Iteration: 10900, Loss: 0.0010807676007971168\n",
      "Iteration: 11000, Loss: 0.0010479796910658479\n",
      "Iteration: 11100, Loss: 0.001010595471598208\n",
      "Iteration: 11200, Loss: 0.0009733306360431015\n",
      "Iteration: 11300, Loss: 0.0009373085922561586\n",
      "Iteration: 11400, Loss: 0.0009155212319456041\n",
      "Iteration: 11500, Loss: 0.0008801727090030909\n",
      "Iteration: 11600, Loss: 0.0008585502509959042\n",
      "Iteration: 11700, Loss: 0.0008517136448062956\n",
      "Iteration: 11800, Loss: 0.0008253083215095103\n",
      "Iteration: 11900, Loss: 0.000811520148999989\n",
      "Iteration: 12000, Loss: 0.0007994875777512789\n",
      "Iteration: 12100, Loss: 0.0007882453501224518\n",
      "Iteration: 12200, Loss: 0.0007888104300945997\n",
      "Iteration: 12300, Loss: 0.0007682646973989904\n",
      "Iteration: 12400, Loss: 0.0007589057786390185\n",
      "Iteration: 12500, Loss: 0.0007527524139732122\n",
      "Iteration: 12600, Loss: 0.0007415895815938711\n",
      "Iteration: 12700, Loss: 0.0007330886437557638\n",
      "Iteration: 12800, Loss: 0.0007267246837727726\n",
      "Iteration: 12900, Loss: 0.0007167297881096601\n",
      "Iteration: 13000, Loss: 0.0007084107492119074\n",
      "Iteration: 13100, Loss: 0.0007007669191807508\n",
      "Iteration: 13200, Loss: 0.0006919617298990488\n",
      "Iteration: 13300, Loss: 0.0007888636318966746\n",
      "Iteration: 13400, Loss: 0.0006749024032615125\n",
      "Iteration: 13500, Loss: 0.0006659401697106659\n",
      "Iteration: 13600, Loss: 0.0006572701968252659\n",
      "Iteration: 13700, Loss: 0.000647796259727329\n",
      "Iteration: 13800, Loss: 0.0006477208225987852\n",
      "Iteration: 13900, Loss: 0.0006281798123382032\n",
      "Iteration: 14000, Loss: 0.0006178176845423877\n",
      "Iteration: 14100, Loss: 0.0006215517059899867\n",
      "Iteration: 14200, Loss: 0.0005964205483905971\n",
      "Iteration: 14300, Loss: 0.0005851350724697113\n",
      "Iteration: 14400, Loss: 0.0005769600393250585\n",
      "Iteration: 14500, Loss: 0.0005630865343846381\n",
      "Iteration: 14600, Loss: 0.0005518782418221235\n",
      "Iteration: 14700, Loss: 0.0005483116838149726\n",
      "Iteration: 14800, Loss: 0.0005302561912685633\n",
      "Iteration: 14900, Loss: 0.000519824679940939\n",
      "Iteration: 15000, Loss: 0.0005110785714350641\n",
      "Iteration: 15100, Loss: 0.0005005084094591439\n",
      "Iteration: 15200, Loss: 0.0007663884316571057\n",
      "Iteration: 15300, Loss: 0.00048308944678865373\n",
      "Iteration: 15400, Loss: 0.0004750287043862045\n",
      "Iteration: 15500, Loss: 0.0005332611035555601\n",
      "Iteration: 15600, Loss: 0.00046014165855012834\n",
      "Iteration: 15700, Loss: 0.00045324352686293423\n",
      "Iteration: 15800, Loss: 0.0004463039222173393\n",
      "Iteration: 15900, Loss: 0.00044090626761317253\n",
      "Iteration: 16000, Loss: 0.00043303726124577224\n",
      "Iteration: 16100, Loss: 0.0004264744638931006\n",
      "Iteration: 16200, Loss: 0.0004203088756185025\n",
      "Iteration: 16300, Loss: 0.0004140555392950773\n",
      "Iteration: 16400, Loss: 0.0004078793863300234\n",
      "Iteration: 16500, Loss: 0.0004020751512143761\n",
      "Iteration: 16600, Loss: 0.0003954552230425179\n",
      "Iteration: 16700, Loss: 0.00038933323230594397\n",
      "Iteration: 16800, Loss: 0.0004050179850310087\n",
      "Iteration: 16900, Loss: 0.0003770360490307212\n",
      "Iteration: 17000, Loss: 0.0003708789008669555\n",
      "Iteration: 17100, Loss: 0.0003647945122793317\n",
      "Iteration: 17200, Loss: 0.00035884047974832356\n",
      "Iteration: 17300, Loss: 0.0003527376684360206\n",
      "Iteration: 17400, Loss: 0.000346899323631078\n",
      "Iteration: 17500, Loss: 0.00034113205038011074\n",
      "Iteration: 17600, Loss: 0.00033522394369356334\n",
      "Iteration: 17700, Loss: 0.0003297268704045564\n",
      "Iteration: 17800, Loss: 0.0003240308433305472\n",
      "Iteration: 17900, Loss: 0.00031843374017626047\n",
      "Iteration: 18000, Loss: 0.0003150792617816478\n",
      "Iteration: 18100, Loss: 0.0003077276924159378\n",
      "Iteration: 18200, Loss: 0.00030244330991990864\n",
      "Iteration: 18300, Loss: 0.000297399761620909\n",
      "Iteration: 18400, Loss: 0.00029236156842671335\n",
      "Iteration: 18500, Loss: 0.00045486458111554384\n",
      "Iteration: 18600, Loss: 0.0002827271819114685\n",
      "Iteration: 18700, Loss: 0.000278102612355724\n",
      "Iteration: 18800, Loss: 0.00032982826814986765\n",
      "Iteration: 18900, Loss: 0.00026918991352431476\n",
      "Iteration: 19000, Loss: 0.0002648993977345526\n",
      "Iteration: 19100, Loss: 0.00026078950031660497\n",
      "Iteration: 19200, Loss: 0.0002566720941103995\n",
      "Iteration: 19300, Loss: 0.000252660975093022\n",
      "Iteration: 19400, Loss: 0.0002489783801138401\n",
      "Iteration: 19500, Loss: 0.00024526260676793754\n",
      "Iteration: 19600, Loss: 0.00024163126363418996\n",
      "Iteration: 19700, Loss: 0.00023815769236534834\n",
      "Iteration: 19800, Loss: 0.0002347749104956165\n",
      "Iteration: 19900, Loss: 0.00023608097399119288\n",
      "Training time: 0.56708 min\n"
     ]
    },
    {
     "name": "stderr",
     "output_type": "stream",
     "text": [
      "Predicting: 100%|██████████| 600/600 [00:00<00:00, 2253.41it/s]\n"
     ]
    },
    {
     "name": "stdout",
     "output_type": "stream",
     "text": [
      "Time: 0.26781 seconds\n"
     ]
    },
    {
     "name": "stderr",
     "output_type": "stream",
     "text": [
      "Generating animation: 601it [00:37, 16.09it/s]                         "
     ]
    },
    {
     "name": "stdout",
     "output_type": "stream",
     "text": [
      "Plot animated and saved to plots/pinn_prediction_data.gif\n"
     ]
    },
    {
     "name": "stderr",
     "output_type": "stream",
     "text": [
      "\n"
     ]
    },
    {
     "data": {
      "image/png": "[encoded data removed]",
      "text/plain": [
       "<Figure size 640x480 with 2 Axes>"
      ]
     },
     "metadata": {},
     "output_type": "display_data"
    }
   ],
   "source": [
    "pinn = PINN([3, 40, 40, 40, 40, 40, 1], device, scaled_alpha)\n",
    "\n",
    "traning_data = dg.generate_traning_data(device, u=solver.u, n_data=20_000)\n",
    "\n",
    "pinn.start_train(traning_data, 20_000)\n",
    "\n",
    "u = predict(pinn)\n",
    "\n",
    "plotter.animate_plot(u, options['delta_t'], filename=\"plots/pinn_prediction_data.gif\")\n",
    "plt = plotter.plot_frame(u, u.shape[2]-1, options['delta_t'])\n",
    "plt.show()"
   ]
  },
  {
   "cell_type": "markdown",
   "metadata": {},
   "source": [
    "### Traning with collocation points, BC and IC"
   ]
  },
  {
   "cell_type": "code",
   "execution_count": null,
   "metadata": {},
   "outputs": [],
   "source": [
    "pinn = PINN([3, 40, 40, 40, 40, 40, 1], device, scaled_alpha)\n",
    "\n",
    "traning_data = dg.generate_traning_data(device, n_colloc=10_000, n_bc=2000, n_ic=800)\n",
    "\n",
    "pinn.start_train(traning_data, 20_000)\n",
    "\n",
    "u = predict(pinn)\n",
    "\n",
    "plotter.animate_plot(u, options['delta_t'], filename=\"plots/pinn_prediction_pde.gif\")\n",
    "plt = plotter.plot_frame(u, u.shape[2]-1, options['delta_t'])\n",
    "plt.show()"
   ]
  },
  {
   "cell_type": "markdown",
   "metadata": {},
   "source": [
    "### Training with data and PDE (collocation points, BC and IC)"
   ]
  },
  {
   "cell_type": "code",
   "execution_count": 6,
   "metadata": {},
   "outputs": [
    {
     "name": "stderr",
     "output_type": "stream",
     "text": [
      "Generating experimental data: 100%|██████████| 20000/20000 [00:00<00:00, 309870.90it/s]\n"
     ]
    },
    {
     "name": "stdout",
     "output_type": "stream",
     "text": [
      "Iteration: 0, Loss: 0.4627687335014343\n",
      "Iteration: 100, Loss: 0.18263253569602966\n",
      "Iteration: 200, Loss: 0.16596940159797668\n",
      "Iteration: 300, Loss: 0.13637301325798035\n",
      "Iteration: 400, Loss: 0.11212494969367981\n",
      "Iteration: 500, Loss: 0.0936155915260315\n",
      "Iteration: 600, Loss: 0.07645997405052185\n",
      "Iteration: 700, Loss: 0.06249398738145828\n",
      "Iteration: 800, Loss: 0.052186187356710434\n",
      "Iteration: 900, Loss: 0.04511138051748276\n",
      "Iteration: 1000, Loss: 0.04042913019657135\n",
      "Iteration: 1100, Loss: 0.03773053362965584\n",
      "Iteration: 1200, Loss: 0.03575867787003517\n",
      "Iteration: 1300, Loss: 0.03425164520740509\n",
      "Iteration: 1400, Loss: 0.03289962187409401\n",
      "Iteration: 1500, Loss: 0.031767554581165314\n",
      "Iteration: 1600, Loss: 0.030820300802588463\n",
      "Iteration: 1700, Loss: 0.030010664835572243\n",
      "Iteration: 1800, Loss: 0.02927381545305252\n",
      "Iteration: 1900, Loss: 0.028957055881619453\n",
      "Iteration: 2000, Loss: 0.027887314558029175\n",
      "Iteration: 2100, Loss: 0.027235113084316254\n",
      "Iteration: 2200, Loss: 0.026693807914853096\n",
      "Iteration: 2300, Loss: 0.02606656774878502\n",
      "Iteration: 2400, Loss: 0.02555914781987667\n",
      "Iteration: 2500, Loss: 0.025118820369243622\n",
      "Iteration: 2600, Loss: 0.024718021973967552\n",
      "Iteration: 2700, Loss: 0.02435567043721676\n",
      "Iteration: 2800, Loss: 0.024016158655285835\n",
      "Iteration: 2900, Loss: 0.023887423798441887\n",
      "Iteration: 3000, Loss: 0.023395247757434845\n",
      "Iteration: 3100, Loss: 0.023111717775464058\n",
      "Iteration: 3200, Loss: 0.022879084572196007\n",
      "Iteration: 3300, Loss: 0.02259282022714615\n",
      "Iteration: 3400, Loss: 0.022346079349517822\n",
      "Iteration: 3500, Loss: 0.022113855928182602\n",
      "Iteration: 3600, Loss: 0.021886881440877914\n",
      "Iteration: 3700, Loss: 0.0216798298060894\n",
      "Iteration: 3800, Loss: 0.02145005762577057\n",
      "Iteration: 3900, Loss: 0.021235527470707893\n",
      "Iteration: 4000, Loss: 0.02102923020720482\n",
      "Iteration: 4100, Loss: 0.02082548849284649\n",
      "Iteration: 4200, Loss: 0.020626366138458252\n",
      "Iteration: 4300, Loss: 0.020423367619514465\n",
      "Iteration: 4400, Loss: 0.02021550014615059\n",
      "Iteration: 4500, Loss: 0.0200026948004961\n",
      "Iteration: 4600, Loss: 0.01977020874619484\n",
      "Iteration: 4700, Loss: 0.019662102684378624\n",
      "Iteration: 4800, Loss: 0.019194835796952248\n",
      "Iteration: 4900, Loss: 0.018826819956302643\n",
      "Iteration: 5000, Loss: 0.01841670647263527\n",
      "Iteration: 5100, Loss: 0.017983758822083473\n",
      "Iteration: 5200, Loss: 0.017595255747437477\n",
      "Iteration: 5300, Loss: 0.01726817525923252\n",
      "Iteration: 5400, Loss: 0.01700262725353241\n",
      "Iteration: 5500, Loss: 0.016782164573669434\n",
      "Iteration: 5600, Loss: 0.016571033746004105\n",
      "Iteration: 5700, Loss: 0.016370223835110664\n",
      "Iteration: 5800, Loss: 0.016181500628590584\n",
      "Iteration: 5900, Loss: 0.016000114381313324\n",
      "Iteration: 6000, Loss: 0.015952851623296738\n",
      "Iteration: 6100, Loss: 0.015657667070627213\n",
      "Iteration: 6200, Loss: 0.015492859296500683\n",
      "Iteration: 6300, Loss: 0.015339531004428864\n",
      "Iteration: 6400, Loss: 0.015187878161668777\n",
      "Iteration: 6500, Loss: 0.01503654383122921\n",
      "Iteration: 6600, Loss: 0.01488899253308773\n",
      "Iteration: 6700, Loss: 0.014734165742993355\n",
      "Iteration: 6800, Loss: 0.014584137126803398\n",
      "Iteration: 6900, Loss: 0.014669237658381462\n",
      "Iteration: 7000, Loss: 0.014278402552008629\n",
      "Iteration: 7100, Loss: 0.014123408123850822\n",
      "Iteration: 7200, Loss: 0.013976454734802246\n",
      "Iteration: 7300, Loss: 0.013814004138112068\n",
      "Iteration: 7400, Loss: 0.013659009709954262\n",
      "Iteration: 7500, Loss: 0.013503408059477806\n",
      "Iteration: 7600, Loss: 0.013349826447665691\n",
      "Iteration: 7700, Loss: 0.013205336406826973\n",
      "Iteration: 7800, Loss: 0.013057952746748924\n",
      "Iteration: 7900, Loss: 0.01293507032096386\n",
      "Iteration: 8000, Loss: 0.012780682183802128\n",
      "Iteration: 8100, Loss: 0.01264756266027689\n",
      "Iteration: 8200, Loss: 0.012524536810815334\n",
      "Iteration: 8300, Loss: 0.012394730933010578\n",
      "Iteration: 8400, Loss: 0.012270962819457054\n",
      "Iteration: 8500, Loss: 0.0121510811150074\n",
      "Iteration: 8600, Loss: 0.012031874619424343\n",
      "Iteration: 8700, Loss: 0.01194940134882927\n",
      "Iteration: 8800, Loss: 0.011801649816334248\n",
      "Iteration: 8900, Loss: 0.011686153709888458\n",
      "Iteration: 9000, Loss: 0.011584811843931675\n",
      "Iteration: 9100, Loss: 0.01146745216101408\n",
      "Iteration: 9200, Loss: 0.011357808485627174\n",
      "Iteration: 9300, Loss: 0.011845303699374199\n",
      "Iteration: 9400, Loss: 0.011143816635012627\n",
      "Iteration: 9500, Loss: 0.011038370430469513\n",
      "Iteration: 9600, Loss: 0.011076617985963821\n",
      "Iteration: 9700, Loss: 0.010827304795384407\n",
      "Iteration: 9800, Loss: 0.010721244849264622\n",
      "Iteration: 9900, Loss: 0.01068849302828312\n",
      "Iteration: 10000, Loss: 0.010505542159080505\n",
      "Iteration: 10100, Loss: 0.010391044430434704\n",
      "Iteration: 10200, Loss: 0.010275369510054588\n",
      "Iteration: 10300, Loss: 0.010152256116271019\n",
      "Iteration: 10400, Loss: 0.010116497054696083\n",
      "Iteration: 10500, Loss: 0.009885170497000217\n",
      "Iteration: 10600, Loss: 0.009737297892570496\n",
      "Iteration: 10700, Loss: 0.009585727006196976\n",
      "Iteration: 10800, Loss: 0.009425492957234383\n",
      "Iteration: 10900, Loss: 0.009351148270070553\n",
      "Iteration: 11000, Loss: 0.009085133671760559\n",
      "Iteration: 11100, Loss: 0.008903658017516136\n",
      "Iteration: 11200, Loss: 0.008724183775484562\n",
      "Iteration: 11300, Loss: 0.00854105781763792\n",
      "Iteration: 11400, Loss: 0.008889034390449524\n",
      "Iteration: 11500, Loss: 0.008183104917407036\n",
      "Iteration: 11600, Loss: 0.008011884056031704\n",
      "Iteration: 11700, Loss: 0.007840080186724663\n",
      "Iteration: 11800, Loss: 0.00767990667372942\n",
      "Iteration: 11900, Loss: 0.007527264300733805\n",
      "Iteration: 12000, Loss: 0.007443743757903576\n",
      "Iteration: 12100, Loss: 0.007241132203489542\n",
      "Iteration: 12200, Loss: 0.007108096498996019\n",
      "Iteration: 12300, Loss: 0.00713185453787446\n",
      "Iteration: 12400, Loss: 0.00685447221621871\n",
      "Iteration: 12500, Loss: 0.006732431706041098\n",
      "Iteration: 12600, Loss: 0.006616801489144564\n",
      "Iteration: 12700, Loss: 0.006501385942101479\n",
      "Iteration: 12800, Loss: 0.006536400411278009\n",
      "Iteration: 12900, Loss: 0.0062829963862895966\n",
      "Iteration: 13000, Loss: 0.006177057512104511\n",
      "Iteration: 13100, Loss: 0.00607530539855361\n",
      "Iteration: 13200, Loss: 0.0059807621873915195\n",
      "Iteration: 13300, Loss: 0.0058855884708464146\n",
      "Iteration: 13400, Loss: 0.005819596350193024\n",
      "Iteration: 13500, Loss: 0.005705102346837521\n",
      "Iteration: 13600, Loss: 0.005618037655949593\n",
      "Iteration: 13700, Loss: 0.00553661584854126\n",
      "Iteration: 13800, Loss: 0.0054944343864917755\n",
      "Iteration: 13900, Loss: 0.005379743408411741\n",
      "Iteration: 14000, Loss: 0.005312182474881411\n",
      "Iteration: 14100, Loss: 0.005235503893345594\n",
      "Iteration: 14200, Loss: 0.005166440736502409\n",
      "Iteration: 14300, Loss: 0.005106903612613678\n",
      "Iteration: 14400, Loss: 0.005043146200478077\n",
      "Iteration: 14500, Loss: 0.004972825758159161\n",
      "Iteration: 14600, Loss: 0.004912782460451126\n",
      "Iteration: 14700, Loss: 0.004854592029005289\n",
      "Iteration: 14800, Loss: 0.004895636811852455\n",
      "Iteration: 14900, Loss: 0.004742441698908806\n",
      "Iteration: 15000, Loss: 0.004793957341462374\n",
      "Iteration: 15100, Loss: 0.004640220198780298\n",
      "Iteration: 15200, Loss: 0.004583846777677536\n",
      "Iteration: 15300, Loss: 0.004533170256763697\n",
      "Iteration: 15400, Loss: 0.004507320933043957\n",
      "Iteration: 15500, Loss: 0.004433509893715382\n",
      "Iteration: 15600, Loss: 0.004381309729069471\n",
      "Iteration: 15700, Loss: 0.004333586897701025\n",
      "Iteration: 15800, Loss: 0.004287281539291143\n",
      "Iteration: 15900, Loss: 0.004368881694972515\n",
      "Iteration: 16000, Loss: 0.0042081186547875404\n",
      "Iteration: 16100, Loss: 0.00415287259966135\n",
      "Iteration: 16200, Loss: 0.004109256900846958\n",
      "Iteration: 16300, Loss: 0.004074218682944775\n",
      "Iteration: 16400, Loss: 0.004022597335278988\n",
      "Iteration: 16500, Loss: 0.004042657557874918\n",
      "Iteration: 16600, Loss: 0.003943146672099829\n",
      "Iteration: 16700, Loss: 0.003900239011272788\n",
      "Iteration: 16800, Loss: 0.004128274042159319\n",
      "Iteration: 16900, Loss: 0.0038304529152810574\n",
      "Iteration: 17000, Loss: 0.003806866006925702\n",
      "Iteration: 17100, Loss: 0.0038433123845607042\n",
      "Iteration: 17200, Loss: 0.003707427531480789\n",
      "Iteration: 17300, Loss: 0.003671288024634123\n",
      "Iteration: 17400, Loss: 0.0036408640444278717\n",
      "Iteration: 17500, Loss: 0.003724046517163515\n",
      "Iteration: 17600, Loss: 0.0035903812386095524\n",
      "Iteration: 17700, Loss: 0.00354387192055583\n",
      "Iteration: 17800, Loss: 0.003501951228827238\n",
      "Iteration: 17900, Loss: 0.0034690857864916325\n",
      "Iteration: 18000, Loss: 0.003447203431278467\n",
      "Iteration: 18100, Loss: 0.0034040482714772224\n",
      "Iteration: 18200, Loss: 0.0033710142597556114\n",
      "Iteration: 18300, Loss: 0.0033515896648168564\n",
      "Iteration: 18400, Loss: 0.0033109006471931934\n",
      "Iteration: 18500, Loss: 0.003529259003698826\n",
      "Iteration: 18600, Loss: 0.0033149044029414654\n",
      "Iteration: 18700, Loss: 0.0032193632796406746\n",
      "Iteration: 18800, Loss: 0.0032266890630126\n",
      "Iteration: 18900, Loss: 0.0031666443683207035\n",
      "Iteration: 19000, Loss: 0.0031600408256053925\n",
      "Iteration: 19100, Loss: 0.0031113503500819206\n",
      "Iteration: 19200, Loss: 0.0031036133877933025\n",
      "Iteration: 19300, Loss: 0.00314074638299644\n",
      "Iteration: 19400, Loss: 0.0030290340073406696\n",
      "Iteration: 19500, Loss: 0.003009851323440671\n",
      "Iteration: 19600, Loss: 0.0029793153516948223\n",
      "Iteration: 19700, Loss: 0.003027695929631591\n",
      "Iteration: 19800, Loss: 0.002941661514341831\n",
      "Iteration: 19900, Loss: 0.002936717588454485\n",
      "Training time: 3.54926 min\n"
     ]
    },
    {
     "name": "stderr",
     "output_type": "stream",
     "text": [
      "Predicting: 100%|██████████| 600/600 [00:00<00:00, 2250.25it/s]\n"
     ]
    },
    {
     "name": "stdout",
     "output_type": "stream",
     "text": [
      "Time: 0.26829 seconds\n"
     ]
    },
    {
     "name": "stderr",
     "output_type": "stream",
     "text": [
      "Generating animation: 601it [00:37, 15.83it/s]                         "
     ]
    },
    {
     "name": "stdout",
     "output_type": "stream",
     "text": [
      "Plot animated and saved to plots/pinn_prediction_all.gif\n"
     ]
    },
    {
     "name": "stderr",
     "output_type": "stream",
     "text": [
      "\n"
     ]
    },
    {
     "data": {
      "image/png": "[encoded data removed]",
      "text/plain": [
       "<Figure size 640x480 with 2 Axes>"
      ]
     },
     "metadata": {},
     "output_type": "display_data"
    }
   ],
   "source": [
    "pinn = PINN([3, 40, 40, 40, 40, 40, 1], device, scaled_alpha)\n",
    "\n",
    "traning_data = dg.generate_traning_data(device, u=solver.u, n_data=20_000, n_colloc=10_000, n_bc=2000, n_ic=800)\n",
    "\n",
    "pinn.start_train(traning_data, 20_000)\n",
    "\n",
    "u = predict(pinn)\n",
    "\n",
    "plotter.animate_plot(u, options['delta_t'], filename=\"plots/pinn_prediction_all.gif\")\n",
    "plt = plotter.plot_frame(u, u.shape[2]-1, options['delta_t'])\n",
    "plt.show()"
   ]
  }
 ],
 "metadata": {
  "kernelspec": {
   "display_name": "venv",
   "language": "python",
   "name": "python3"
  },
  "language_info": {
   "codemirror_mode": {
    "name": "ipython",
    "version": 3
   },
   "file_extension": ".py",
   "mimetype": "text/x-python",
   "name": "python",
   "nbconvert_exporter": "python",
   "pygments_lexer": "ipython3",
   "version": "3.10.12"
  }
 },
 "nbformat": 4,
 "nbformat_minor": 2
}
