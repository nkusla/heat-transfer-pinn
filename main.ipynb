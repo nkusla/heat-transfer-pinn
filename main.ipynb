{
 "cells": [
  {
   "cell_type": "markdown",
   "metadata": {},
   "source": [
    "## Heat transfer using Physics-Informed Neural Network"
   ]
  },
  {
   "cell_type": "code",
   "execution_count": null,
   "metadata": {},
   "outputs": [],
   "source": [
    "import sys\n",
    "sys.path.append('./src')"
   ]
  },
  {
   "cell_type": "code",
   "execution_count": null,
   "metadata": {},
   "outputs": [],
   "source": [
    "from heat_solver import HeatForwardSolver\n",
    "import plotter\n",
    "from params import u0, options, boundaries\n",
    "import matplotlib.pyplot as plt\n",
    "import numpy as np\n",
    "import torch\n",
    "from tqdm import tqdm\n",
    "from pinn import PINN\n",
    "import data_generation as dg\n",
    "from IPython.display import HTML"
   ]
  },
  {
   "cell_type": "markdown",
   "metadata": {},
   "source": [
    "### Numerical simulation"
   ]
  },
  {
   "cell_type": "code",
   "execution_count": null,
   "metadata": {},
   "outputs": [],
   "source": [
    "solver = HeatForwardSolver(**options)\n",
    "solver.set_initial(u0)\n",
    "solver.set_boundaries(boundaries)\n",
    "\n",
    "solver.solve()\n",
    "\n",
    "plt = plotter.plot_frame(solver.u, solver.u.shape[2]-1, solver.delta_t)\n",
    "\n",
    "anim = plotter.animate_plot(solver.u, solver.delta_t, filename='numerical_prediction.gif')\n",
    "\n",
    "plt.show()\n",
    "# HTML(anim.to_html5_video())"
   ]
  },
  {
   "cell_type": "markdown",
   "metadata": {},
   "source": [
    "### PINN traning and prediciton"
   ]
  },
  {
   "cell_type": "code",
   "execution_count": null,
   "metadata": {},
   "outputs": [],
   "source": [
    "device = torch.device('cuda' if torch.cuda.is_available() else 'cpu')\n",
    "\n",
    "pinn = PINN([3, 40, 40, 40, 40, 40, 1], device)\n",
    "\n",
    "traning_data = dg.generate_traning_data(device, n_data=50_000, n_colloc=10_000, n_bc=1000, n_ic=400)"
   ]
  },
  {
   "cell_type": "code",
   "execution_count": null,
   "metadata": {},
   "outputs": [],
   "source": [
    "pinn.train()\n",
    "pinn.start_train(traning_data, 20_000)\n",
    "\n",
    "n = options['domain_length']\n",
    "iter_end = options['max_iter']\n",
    "u = np.zeros((n, n, iter_end))\n",
    "pinn.eval()\n",
    "\n",
    "for i in tqdm(range(iter_end), desc='Predicting'):\n",
    "\ttemp = np.linspace(0, n, n) / n\n",
    "\tX0, Y0 = np.meshgrid(temp, temp)\n",
    "\n",
    "\tX = X0.reshape([n*n, 1])\n",
    "\tY = Y0.reshape([n*n, 1])\n",
    "\n",
    "\tt = (i * options['delta_t']) / options['t_end']\n",
    "\tgrid_points = np.concatenate(\n",
    "\t\t(X, Y,\n",
    "\t\tnp.full((n*n, 1), t)),\n",
    "\t\taxis=1)\n",
    "\n",
    "\tgrid_points = torch.tensor(grid_points, dtype=torch.float32).to(device)\n",
    "\n",
    "\tu_pred = pinn.forward(grid_points)\n",
    "\tu_pred = u_pred.cpu().detach().numpy().reshape((n, n))\n",
    "\n",
    "\tu[:, :, i] = u_pred * 100\n",
    "\n",
    "plotter.plot_frame(u, iter_end-1, options['delta_t']).show()\n",
    "plotter.animate_plot(u, options['delta_t'], filename=\"pinn_prediction.gif\")"
   ]
  }
 ],
 "metadata": {
  "kernelspec": {
   "display_name": "venv",
   "language": "python",
   "name": "python3"
  },
  "language_info": {
   "codemirror_mode": {
    "name": "ipython",
    "version": 3
   },
   "file_extension": ".py",
   "mimetype": "text/x-python",
   "name": "python",
   "nbconvert_exporter": "python",
   "pygments_lexer": "ipython3",
   "version": "3.10.12"
  }
 },
 "nbformat": 4,
 "nbformat_minor": 2
}
